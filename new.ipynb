{
 "cells": [
  {
   "cell_type": "code",
   "execution_count": 1,
   "metadata": {},
   "outputs": [],
   "source": [
    "import torch\n",
    "\n",
    "from src.model import GPTLanguageModel\n",
    "from src.utils import decode, estimate_loss, get_batch, get_prompt"
   ]
  },
  {
   "cell_type": "code",
   "execution_count": 2,
   "metadata": {},
   "outputs": [],
   "source": [
    "train_data = torch.load(\"assets/train.pt\")\n",
    "valid_data = torch.load(\"assets/valid.pt\")\n",
    "\n",
    "vocab = open(\"assets/vocab.txt\", \"r\").read()\n",
    "vocab_size = len(vocab)"
   ]
  },
  {
   "cell_type": "code",
   "execution_count": 3,
   "metadata": {},
   "outputs": [
    {
     "data": {
      "text/plain": [
       "316666"
      ]
     },
     "execution_count": 3,
     "metadata": {},
     "output_type": "execute_result"
    }
   ],
   "source": [
    "# learning hyperparameters\n",
    "learn_rate = 3e-4\n",
    "iters = 5\n",
    "eval_interval = 500\n",
    "\n",
    "# initialize model & optimizer\n",
    "model = GPTLanguageModel(vocab_size)\n",
    "optimizer = torch.optim.AdamW(model.parameters(), lr=learn_rate)\n",
    "\n",
    "# number of model parameters\n",
    "n_params = sum(p.numel() for p in model.parameters())\n",
    "n_params"
   ]
  },
  {
   "cell_type": "code",
   "execution_count": null,
   "metadata": {},
   "outputs": [],
   "source": [
    "# learning iterations\n",
    "for i in range(iters):\n",
    "\n",
    "    # every once in a while evaluate the loss on train and val sets\n",
    "    if i % eval_interval == 0 or i == iters - 1:\n",
    "        train_loss = estimate_loss(model, train_data)\n",
    "        valid_loss = estimate_loss(model, valid_data)\n",
    "        print(f\"step {i}: train loss {train_loss:.4f}, valid loss {valid_loss:.4f}\")\n",
    "\n",
    "    # sample batch of data\n",
    "    x_batch, y_batch = get_batch(train_data)\n",
    "\n",
    "    # evaluate the loss\n",
    "    logits, loss = model(x_batch, y_batch)\n",
    "    optimizer.zero_grad(set_to_none=True)\n",
    "    loss.backward()\n",
    "    optimizer.step()"
   ]
  },
  {
   "cell_type": "code",
   "execution_count": null,
   "metadata": {},
   "outputs": [],
   "source": [
    "\n",
    "prompt = get_prompt(vocab)"
   ]
  },
  {
   "cell_type": "code",
   "execution_count": null,
   "metadata": {},
   "outputs": [],
   "source": [
    "# generate from the model\n",
    "sampled = model.generate(prompt, max_new_tokens=100)\n",
    "print(decode(sampled, vocab))"
   ]
  }
 ],
 "metadata": {
  "kernelspec": {
   "display_name": "Python 3",
   "language": "python",
   "name": "python3"
  },
  "language_info": {
   "codemirror_mode": {
    "name": "ipython",
    "version": 3
   },
   "file_extension": ".py",
   "mimetype": "text/x-python",
   "name": "python",
   "nbconvert_exporter": "python",
   "pygments_lexer": "ipython3",
   "version": "3.8.10"
  },
  "orig_nbformat": 4
 },
 "nbformat": 4,
 "nbformat_minor": 2
}
