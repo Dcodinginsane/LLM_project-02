{
 "cells": [
  {
   "cell_type": "code",
   "execution_count": 1,
   "metadata": {},
   "outputs": [],
   "source": [
    "from collections import Counter\n",
    "\n",
    "\n",
    "def drop_datetime(txt: str) -> str:\n",
    "    \"\"\"Strip away the datetime information of each message.\"\"\"\n",
    "    \n",
    "    txt = txt.split(\"\\n\")\n",
    "    txt_clean = [i[21:] for i in txt]\n",
    "    txt_joined = \"\\n\".join(txt_clean)\n",
    "    return txt_joined\n",
    "\n",
    "\n",
    "def get_infrequent_chars(txt: str, min_count: int) -> list:\n",
    "    chars_counts = Counter(text)\n",
    "    chars_remove = [k for k,v in chars_counts.items() if v< min_count]\n",
    "    return chars_remove\n",
    "\n",
    "\n",
    "def drop_chars(txt: str, drop: list) -> str:\n",
    "    return txt.translate(str.maketrans(\"\", \"\", \"\".join(drop)))\n"
   ]
  },
  {
   "cell_type": "code",
   "execution_count": 2,
   "metadata": {},
   "outputs": [],
   "source": [
    "text = open(\"assets/chat.txt\", \"r\").read()\n",
    "text_0 = drop_datetime(text)\n",
    "\n",
    "infreq_chars = get_infrequent_chars(text_0, min_count=200)\n",
    "text_1 = drop_chars(text_0, infreq_chars)"
   ]
  },
  {
   "cell_type": "code",
   "execution_count": 4,
   "metadata": {},
   "outputs": [],
   "source": [
    "import torch\n",
    "\n",
    "\n",
    "def get_vocab(text: str) -> list:\n",
    "    \"\"\"Returns a sorted list of all available characters in the corpus.\"\"\"\n",
    "\n",
    "    return sorted(list(set(\"\".join(text))))\n",
    "\n",
    "\n",
    "def encode(s: str, vocab: list) -> torch.tensor:\n",
    "    \"\"\"Encode a string into a tensor of integers, given a fixed vocabulary.\"\"\"\n",
    "\n",
    "    map = {s:i for i,s in enumerate(vocab)}\n",
    "    enc = [map[c] for c in s]\n",
    "    enc = torch.tensor(enc, dtype=torch.long)\n",
    "    return enc"
   ]
  },
  {
   "cell_type": "code",
   "execution_count": 6,
   "metadata": {},
   "outputs": [],
   "source": [
    "vocab = get_vocab(text_1)\n",
    "vocab_size = len(vocab)"
   ]
  },
  {
   "cell_type": "code",
   "execution_count": 8,
   "metadata": {},
   "outputs": [
    {
     "name": "stdout",
     "output_type": "stream",
     "text": [
      "139\n"
     ]
    }
   ],
   "source": [
    "print(vocab_size)"
   ]
  }
 ],
 "metadata": {
  "kernelspec": {
   "display_name": "Python 3",
   "language": "python",
   "name": "python3"
  },
  "language_info": {
   "codemirror_mode": {
    "name": "ipython",
    "version": 3
   },
   "file_extension": ".py",
   "mimetype": "text/x-python",
   "name": "python",
   "nbconvert_exporter": "python",
   "pygments_lexer": "ipython3",
   "version": "3.8.10"
  },
  "orig_nbformat": 4
 },
 "nbformat": 4,
 "nbformat_minor": 2
}
